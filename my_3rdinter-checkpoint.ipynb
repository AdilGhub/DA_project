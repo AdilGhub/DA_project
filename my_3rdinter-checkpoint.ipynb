{
 "cells": [
  {
   "cell_type": "code",
   "execution_count": 71,
   "id": "453b5e76",
   "metadata": {},
   "outputs": [],
   "source": [
    "def add ():\n",
    "    print(\"hello world\")\n",
    "    a=10\n",
    "    b=20\n",
    "    c=a+b \n",
    "    print(c)"
   ]
  },
  {
   "cell_type": "code",
   "execution_count": 72,
   "id": "b882635c",
   "metadata": {},
   "outputs": [
    {
     "name": "stdout",
     "output_type": "stream",
     "text": [
      "hello world\n",
      "30\n"
     ]
    }
   ],
   "source": [
    "add()\n"
   ]
  },
  {
   "cell_type": "code",
   "execution_count": 74,
   "id": "157ededd",
   "metadata": {},
   "outputs": [
    {
     "name": "stdout",
     "output_type": "stream",
     "text": [
      "hello world\n",
      "30\n",
      "How are you \n",
      " \n",
      "*  \n",
      "* *  \n",
      "* * *  \n",
      "* * * *  \n",
      "* * * * *  \n",
      "* * * * * *  \n",
      "* * * * * * *  \n",
      "* * * * * * * *  \n",
      "* * * * * * * * * "
     ]
    }
   ],
   "source": [
    "def fun():\n",
    "    print(\"How are you \")\n",
    "    for i in range (1,10):\n",
    "        print(\" \")\n",
    "        for j in range(1,i+1):\n",
    "            print(\"*\",end=\" \")\n",
    "add()\n",
    "fun()"
   ]
  },
  {
   "cell_type": "code",
   "execution_count": 75,
   "id": "70f9be85",
   "metadata": {},
   "outputs": [],
   "source": [
    "def add (a,b,name):\n",
    "    print(\"hello world\")\n",
    "   # a=1\n",
    "    print(\"my name is \",name)\n",
    "   # b=20\n",
    "    return a+b,a-b,a*b,a/b,a//b,a%b,a<b,a>b,a&b,a|b,a==b,name,a>>b,a<<b,a!=b\n",
    "   # print(\"the addition is :\",c)"
   ]
  },
  {
   "cell_type": "code",
   "execution_count": 76,
   "id": "29533fdf",
   "metadata": {},
   "outputs": [
    {
     "name": "stdout",
     "output_type": "stream",
     "text": [
      "enter the num1:10\n",
      "enter the num2:5\n",
      "enter the name:Adil\n",
      "hello world\n",
      "my name is  Adil\n",
      "(15, 5, 50, 2.0, 2, 0, False, True, 0, 15, False, 'Adil', 0, 320, True)\n"
     ]
    }
   ],
   "source": [
    "a=int(input(\"enter the num1:\"))\n",
    "b=int(input(\"enter the num2:\"))\n",
    "name=input(\"enter the name:\")\n",
    "z=add(a,b,name)\n",
    "print(z)"
   ]
  },
  {
   "cell_type": "code",
   "execution_count": 78,
   "id": "4691b75d",
   "metadata": {},
   "outputs": [
    {
     "name": "stdout",
     "output_type": "stream",
     "text": [
      "hello world\n",
      "my name is  Riyaz\n"
     ]
    },
    {
     "data": {
      "text/plain": [
       "(40, 20, 300, 3.0, 3, 0, False, True, 10, 30, False, 'Riyaz', 0, 30720, True)"
      ]
     },
     "execution_count": 78,
     "metadata": {},
     "output_type": "execute_result"
    }
   ],
   "source": [
    "p=add(30,10,\"Riyaz\")\n",
    "p"
   ]
  },
  {
   "cell_type": "code",
   "execution_count": 82,
   "id": "84aeb159",
   "metadata": {},
   "outputs": [
    {
     "name": "stdout",
     "output_type": "stream",
     "text": [
      "enter the age:6\n"
     ]
    },
    {
     "data": {
      "text/plain": [
       "'not eligible for vote '"
      ]
     },
     "execution_count": 82,
     "metadata": {},
     "output_type": "execute_result"
    }
   ],
   "source": [
    "def con(age):\n",
    "    if age>=18:\n",
    "        return \"eligible for vote\"\n",
    "    elif age<=18:\n",
    "        return \"not eligible for vote \"\n",
    "age=int(input(\"enter the age:\"))\n",
    "r1=con(age)\n",
    "r1"
   ]
  },
  {
   "cell_type": "code",
   "execution_count": 83,
   "id": "62a53b27",
   "metadata": {},
   "outputs": [
    {
     "data": {
      "text/plain": [
       "array([1, 2, 3, 4])"
      ]
     },
     "execution_count": 83,
     "metadata": {},
     "output_type": "execute_result"
    }
   ],
   "source": [
    "import numpy as np\n",
    "r=np.array([1,2,3,4])\n",
    "r"
   ]
  },
  {
   "cell_type": "code",
   "execution_count": 6,
   "id": "8264aba1",
   "metadata": {},
   "outputs": [
    {
     "name": "stdout",
     "output_type": "stream",
     "text": [
      "[2, 5, 8]\n"
     ]
    }
   ],
   "source": [
    "l=[1,2,3,4,5,6,7,8,9]\n",
    "print(l[1:10:3])"
   ]
  },
  {
   "cell_type": "code",
   "execution_count": null,
   "id": "c7774dce",
   "metadata": {},
   "outputs": [],
   "source": []
  }
 ],
 "metadata": {
  "kernelspec": {
   "display_name": "Python 3 (ipykernel)",
   "language": "python",
   "name": "python3"
  },
  "language_info": {
   "codemirror_mode": {
    "name": "ipython",
    "version": 3
   },
   "file_extension": ".py",
   "mimetype": "text/x-python",
   "name": "python",
   "nbconvert_exporter": "python",
   "pygments_lexer": "ipython3",
   "version": "3.10.9"
  }
 },
 "nbformat": 4,
 "nbformat_minor": 5
}
