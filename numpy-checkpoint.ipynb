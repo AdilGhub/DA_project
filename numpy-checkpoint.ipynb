{
 "cells": [
  {
   "cell_type": "code",
   "execution_count": 148,
   "id": "020e3ab5",
   "metadata": {},
   "outputs": [
    {
     "data": {
      "text/plain": [
       "array([11, 11, 11, 11, 11])"
      ]
     },
     "execution_count": 148,
     "metadata": {},
     "output_type": "execute_result"
    }
   ],
   "source": [
    "import numpy as np\n",
    "a=[1,2,3,4,5]\n",
    "b=[10,9,8,7,6]\n",
    "r=(np.array(a)+np.array(b))\n",
    "r"
   ]
  },
  {
   "cell_type": "code",
   "execution_count": 149,
   "id": "c1c828b3",
   "metadata": {},
   "outputs": [
    {
     "data": {
      "text/plain": [
       "array([66, 66, 66, 66, 66])"
      ]
     },
     "execution_count": 149,
     "metadata": {},
     "output_type": "execute_result"
    }
   ],
   "source": [
    "r*6"
   ]
  },
  {
   "cell_type": "code",
   "execution_count": 150,
   "id": "b6fd8807",
   "metadata": {},
   "outputs": [
    {
     "data": {
      "text/plain": [
       "array([[35, 10, 10],\n",
       "       [16, 20, 16],\n",
       "       [39, 23, 10]])"
      ]
     },
     "execution_count": 150,
     "metadata": {},
     "output_type": "execute_result"
    }
   ],
   "source": [
    "mat=np.array([[1,2,3],[9,8,7],[7,8,9]])\n",
    "mat1=np.array([[34,8,7],[7,12,9],[32,15,1]])\n",
    "z=mat+mat1\n",
    "z"
   ]
  },
  {
   "cell_type": "markdown",
   "id": "d7089e6b",
   "metadata": {},
   "source": [
    "z*5"
   ]
  },
  {
   "cell_type": "code",
   "execution_count": 151,
   "id": "a32327ff",
   "metadata": {},
   "outputs": [
    {
     "data": {
      "text/plain": [
       "array([[350, 100, 100],\n",
       "       [160, 200, 160],\n",
       "       [390, 230, 100]])"
      ]
     },
     "execution_count": 151,
     "metadata": {},
     "output_type": "execute_result"
    }
   ],
   "source": [
    "z*10"
   ]
  },
  {
   "cell_type": "code",
   "execution_count": 152,
   "id": "30023a2a",
   "metadata": {},
   "outputs": [
    {
     "name": "stdout",
     "output_type": "stream",
     "text": [
      "[[ True False False]\n",
      " [ True  True  True]\n",
      " [ True  True False]] [[False False False]\n",
      " [False False False]\n",
      " [False False False]] [[ True False False]\n",
      " [ True  True  True]\n",
      " [ True  True False]] [[False  True  True]\n",
      " [False False False]\n",
      " [False False  True]] [[43 10 10]\n",
      " [26 30 26]\n",
      " [47 31 10]] [[35840 10240 10240]\n",
      " [16384 20480 16384]\n",
      " [39936 23552 10240]] [[70 20 20]\n",
      " [32 40 32]\n",
      " [78 46 20]] [[ True  True  True]\n",
      " [ True  True  True]\n",
      " [ True  True  True]]\n"
     ]
    }
   ],
   "source": [
    "print(z>10,z<10,z!=10,z==10,z|10,z<<10,z+z,z>=z)"
   ]
  },
  {
   "cell_type": "code",
   "execution_count": 153,
   "id": "2ec1512c",
   "metadata": {},
   "outputs": [
    {
     "data": {
      "text/plain": [
       "array([[35, 10, 10],\n",
       "       [16, 20, 16],\n",
       "       [39, 23, 10]])"
      ]
     },
     "execution_count": 153,
     "metadata": {},
     "output_type": "execute_result"
    }
   ],
   "source": [
    "z"
   ]
  },
  {
   "cell_type": "code",
   "execution_count": 154,
   "id": "69427246",
   "metadata": {},
   "outputs": [
    {
     "data": {
      "text/plain": [
       "array([35, 16, 20, 16, 39, 23])"
      ]
     },
     "execution_count": 154,
     "metadata": {},
     "output_type": "execute_result"
    }
   ],
   "source": [
    "a=z[z>10]\n",
    "a"
   ]
  },
  {
   "cell_type": "code",
   "execution_count": 155,
   "id": "fba4e9c9",
   "metadata": {},
   "outputs": [
    {
     "data": {
      "text/plain": [
       "array([[0., 0., 0.],\n",
       "       [0., 0., 0.],\n",
       "       [0., 0., 0.]])"
      ]
     },
     "execution_count": 155,
     "metadata": {},
     "output_type": "execute_result"
    }
   ],
   "source": [
    "np.zeros((3,3))"
   ]
  },
  {
   "cell_type": "code",
   "execution_count": 156,
   "id": "49784c1f",
   "metadata": {},
   "outputs": [
    {
     "data": {
      "text/plain": [
       "array([[1., 1., 1.],\n",
       "       [1., 1., 1.],\n",
       "       [1., 1., 1.]])"
      ]
     },
     "execution_count": 156,
     "metadata": {},
     "output_type": "execute_result"
    }
   ],
   "source": [
    "np.ones((3,3))"
   ]
  },
  {
   "cell_type": "code",
   "execution_count": 157,
   "id": "7fb3199f",
   "metadata": {},
   "outputs": [
    {
     "data": {
      "text/plain": [
       "array([[0.5486763 , 0.98027412, 0.26552765, 0.52225564],\n",
       "       [0.24951116, 0.37055154, 0.35733064, 0.25348467],\n",
       "       [0.73451242, 0.37795628, 0.90654924, 0.5741805 ],\n",
       "       [0.62438351, 0.38624753, 0.86290821, 0.04278678]])"
      ]
     },
     "execution_count": 157,
     "metadata": {},
     "output_type": "execute_result"
    }
   ],
   "source": [
    "np.random.rand(4,4)"
   ]
  },
  {
   "cell_type": "code",
   "execution_count": 158,
   "id": "da3dc738",
   "metadata": {},
   "outputs": [
    {
     "data": {
      "text/plain": [
       "[[1, 2, 3], [9, 8, 7]]"
      ]
     },
     "execution_count": 158,
     "metadata": {},
     "output_type": "execute_result"
    }
   ],
   "source": [
    "a=([[1,2,3],\n",
    "   [9,8,7]])\n",
    "a"
   ]
  },
  {
   "cell_type": "code",
   "execution_count": 159,
   "id": "3c2e9276",
   "metadata": {},
   "outputs": [
    {
     "data": {
      "text/plain": [
       "array([1, 2, 3, 4, 5, 6, 7, 8, 9])"
      ]
     },
     "execution_count": 159,
     "metadata": {},
     "output_type": "execute_result"
    }
   ],
   "source": [
    "np.arange(1,10)"
   ]
  },
  {
   "cell_type": "code",
   "execution_count": 160,
   "id": "85ff8c57",
   "metadata": {},
   "outputs": [
    {
     "data": {
      "text/plain": [
       "array([[ 0,  1,  2,  3],\n",
       "       [ 4,  5,  6,  7],\n",
       "       [ 8,  9, 10, 11],\n",
       "       [12, 13, 14, 15]])"
      ]
     },
     "execution_count": 160,
     "metadata": {},
     "output_type": "execute_result"
    }
   ],
   "source": [
    "np.arange(16).reshape(4,4)"
   ]
  },
  {
   "cell_type": "code",
   "execution_count": 161,
   "id": "f451ae1c",
   "metadata": {},
   "outputs": [
    {
     "data": {
      "text/plain": [
       "array([[[0, 1],\n",
       "        [2, 3]],\n",
       "\n",
       "       [[4, 5],\n",
       "        [6, 7]]])"
      ]
     },
     "execution_count": 161,
     "metadata": {},
     "output_type": "execute_result"
    }
   ],
   "source": [
    "np.arange(8).reshape(2,2,2)"
   ]
  },
  {
   "cell_type": "code",
   "execution_count": 597,
   "id": "e87d3630",
   "metadata": {},
   "outputs": [
    {
     "data": {
      "text/plain": [
       "2"
      ]
     },
     "execution_count": 597,
     "metadata": {},
     "output_type": "execute_result"
    }
   ],
   "source": [
    "n=np.array([[1,2,5,6],\n",
    "          [3,4,7,8],\n",
    "            [5,8,3,7]])\n",
    "n.ndim"
   ]
  },
  {
   "cell_type": "code",
   "execution_count": 598,
   "id": "4e33962a",
   "metadata": {},
   "outputs": [
    {
     "data": {
      "text/plain": [
       "(3, 4)"
      ]
     },
     "execution_count": 598,
     "metadata": {},
     "output_type": "execute_result"
    }
   ],
   "source": [
    "n.shape"
   ]
  },
  {
   "cell_type": "code",
   "execution_count": 599,
   "id": "a6b2901d",
   "metadata": {},
   "outputs": [
    {
     "data": {
      "text/plain": [
       "dtype('int32')"
      ]
     },
     "execution_count": 599,
     "metadata": {},
     "output_type": "execute_result"
    }
   ],
   "source": [
    "n.dtype"
   ]
  },
  {
   "cell_type": "code",
   "execution_count": 600,
   "id": "b6a50158",
   "metadata": {},
   "outputs": [
    {
     "data": {
      "text/plain": [
       "12"
      ]
     },
     "execution_count": 600,
     "metadata": {},
     "output_type": "execute_result"
    }
   ],
   "source": [
    "n.size"
   ]
  },
  {
   "cell_type": "code",
   "execution_count": 601,
   "id": "afac1a48",
   "metadata": {},
   "outputs": [
    {
     "data": {
      "text/plain": [
       "4"
      ]
     },
     "execution_count": 601,
     "metadata": {},
     "output_type": "execute_result"
    }
   ],
   "source": [
    "n.itemsize"
   ]
  },
  {
   "cell_type": "code",
   "execution_count": 602,
   "id": "30f22c11",
   "metadata": {},
   "outputs": [
    {
     "data": {
      "text/plain": [
       "48"
      ]
     },
     "execution_count": 602,
     "metadata": {},
     "output_type": "execute_result"
    }
   ],
   "source": [
    "n.nbytes"
   ]
  },
  {
   "cell_type": "code",
   "execution_count": 603,
   "id": "5410faa9",
   "metadata": {},
   "outputs": [
    {
     "data": {
      "text/plain": [
       "array([[1, 2, 5, 6],\n",
       "       [3, 4, 7, 8],\n",
       "       [5, 8, 3, 7]])"
      ]
     },
     "execution_count": 603,
     "metadata": {},
     "output_type": "execute_result"
    }
   ],
   "source": [
    "n.real"
   ]
  },
  {
   "cell_type": "code",
   "execution_count": 604,
   "id": "ccc6345c",
   "metadata": {},
   "outputs": [
    {
     "data": {
      "text/plain": [
       "array([[0, 0, 0, 0],\n",
       "       [0, 0, 0, 0],\n",
       "       [0, 0, 0, 0]])"
      ]
     },
     "execution_count": 604,
     "metadata": {},
     "output_type": "execute_result"
    }
   ],
   "source": [
    "n.imag"
   ]
  },
  {
   "cell_type": "code",
   "execution_count": 605,
   "id": "cecff954",
   "metadata": {},
   "outputs": [
    {
     "data": {
      "text/plain": [
       "<function ndarray.transpose>"
      ]
     },
     "execution_count": 605,
     "metadata": {},
     "output_type": "execute_result"
    }
   ],
   "source": [
    "n.transpose"
   ]
  },
  {
   "cell_type": "code",
   "execution_count": 606,
   "id": "144ed319",
   "metadata": {},
   "outputs": [
    {
     "data": {
      "text/plain": [
       "  C_CONTIGUOUS : True\n",
       "  F_CONTIGUOUS : False\n",
       "  OWNDATA : True\n",
       "  WRITEABLE : True\n",
       "  ALIGNED : True\n",
       "  WRITEBACKIFCOPY : False"
      ]
     },
     "execution_count": 606,
     "metadata": {},
     "output_type": "execute_result"
    }
   ],
   "source": [
    "n.flags"
   ]
  },
  {
   "cell_type": "code",
   "execution_count": 607,
   "id": "15ba676d",
   "metadata": {},
   "outputs": [],
   "source": [
    "n.base"
   ]
  },
  {
   "cell_type": "code",
   "execution_count": 608,
   "id": "3a401b26",
   "metadata": {},
   "outputs": [
    {
     "data": {
      "text/plain": [
       "array([[ 1,  4, 25, 36],\n",
       "       [ 9, 16, 49, 64],\n",
       "       [25, 64,  9, 49]])"
      ]
     },
     "execution_count": 608,
     "metadata": {},
     "output_type": "execute_result"
    }
   ],
   "source": [
    "n**2"
   ]
  },
  {
   "cell_type": "code",
   "execution_count": 609,
   "id": "e79d99d6",
   "metadata": {},
   "outputs": [
    {
     "data": {
      "text/plain": [
       "array([[False, False,  True,  True],\n",
       "       [False,  True,  True,  True],\n",
       "       [ True,  True, False,  True]])"
      ]
     },
     "execution_count": 609,
     "metadata": {},
     "output_type": "execute_result"
    }
   ],
   "source": [
    "n>3"
   ]
  },
  {
   "cell_type": "code",
   "execution_count": 610,
   "id": "39e4bf50",
   "metadata": {},
   "outputs": [
    {
     "data": {
      "text/plain": [
       "array([[False, False, False, False],\n",
       "       [ True, False, False, False],\n",
       "       [False, False,  True, False]])"
      ]
     },
     "execution_count": 610,
     "metadata": {},
     "output_type": "execute_result"
    }
   ],
   "source": [
    "n==3"
   ]
  },
  {
   "cell_type": "code",
   "execution_count": 611,
   "id": "86a282df",
   "metadata": {},
   "outputs": [
    {
     "data": {
      "text/plain": [
       "array([[False, False,  True,  True],\n",
       "       [False, False,  True,  True],\n",
       "       [ True,  True, False,  True]])"
      ]
     },
     "execution_count": 611,
     "metadata": {},
     "output_type": "execute_result"
    }
   ],
   "source": [
    "n>=5"
   ]
  },
  {
   "cell_type": "code",
   "execution_count": 612,
   "id": "93918837",
   "metadata": {},
   "outputs": [
    {
     "data": {
      "text/plain": [
       "array([[ True,  True,  True,  True],\n",
       "       [ True,  True, False,  True],\n",
       "       [ True,  True,  True, False]])"
      ]
     },
     "execution_count": 612,
     "metadata": {},
     "output_type": "execute_result"
    }
   ],
   "source": [
    "n!=7"
   ]
  },
  {
   "cell_type": "code",
   "execution_count": 613,
   "id": "41405360",
   "metadata": {},
   "outputs": [
    {
     "data": {
      "text/plain": [
       "array([[ True,  True, False, False],\n",
       "       [ True, False, False, False],\n",
       "       [False, False,  True, False]])"
      ]
     },
     "execution_count": 613,
     "metadata": {},
     "output_type": "execute_result"
    }
   ],
   "source": [
    "n<=3"
   ]
  },
  {
   "cell_type": "code",
   "execution_count": 614,
   "id": "d6b36913",
   "metadata": {},
   "outputs": [
    {
     "data": {
      "text/plain": [
       "array([[-2, -3, -6, -7],\n",
       "       [-4, -5, -8, -9],\n",
       "       [-6, -9, -4, -8]])"
      ]
     },
     "execution_count": 614,
     "metadata": {},
     "output_type": "execute_result"
    }
   ],
   "source": [
    "~n"
   ]
  },
  {
   "cell_type": "code",
   "execution_count": 615,
   "id": "e1d52225",
   "metadata": {},
   "outputs": [
    {
     "name": "stdout",
     "output_type": "stream",
     "text": [
      "7 [3 4 5 6 7 8]\n"
     ]
    },
    {
     "data": {
      "text/plain": [
       "array([2, 3, 4, 5, 6, 7, 8])"
      ]
     },
     "execution_count": 615,
     "metadata": {},
     "output_type": "execute_result"
    }
   ],
   "source": [
    "l=np.array([1,2,3,4,5,6,7,8,9,45,354,547,36,563,99])\n",
    "print(l[6],l[2:8])\n",
    "l[1:8]"
   ]
  },
  {
   "cell_type": "code",
   "execution_count": 616,
   "id": "5a82ebc7",
   "metadata": {},
   "outputs": [
    {
     "data": {
      "text/plain": [
       "array([ 2,  4,  6,  8, 45])"
      ]
     },
     "execution_count": 616,
     "metadata": {},
     "output_type": "execute_result"
    }
   ],
   "source": [
    "l[1:10:2]"
   ]
  },
  {
   "cell_type": "code",
   "execution_count": 617,
   "id": "8671c4e7",
   "metadata": {},
   "outputs": [
    {
     "data": {
      "text/plain": [
       "array([[1, 2, 5, 6],\n",
       "       [3, 4, 7, 8],\n",
       "       [5, 8, 3, 7]])"
      ]
     },
     "execution_count": 617,
     "metadata": {},
     "output_type": "execute_result"
    }
   ],
   "source": [
    "n[:,:]"
   ]
  },
  {
   "cell_type": "code",
   "execution_count": 618,
   "id": "86659b09",
   "metadata": {},
   "outputs": [
    {
     "data": {
      "text/plain": [
       "8"
      ]
     },
     "execution_count": 618,
     "metadata": {},
     "output_type": "execute_result"
    }
   ],
   "source": [
    "n[1,3]"
   ]
  },
  {
   "cell_type": "code",
   "execution_count": 619,
   "id": "2368ddbe",
   "metadata": {},
   "outputs": [
    {
     "data": {
      "text/plain": [
       "array([[4, 7],\n",
       "       [8, 3]])"
      ]
     },
     "execution_count": 619,
     "metadata": {},
     "output_type": "execute_result"
    }
   ],
   "source": [
    "n[1:3,1:3]"
   ]
  },
  {
   "cell_type": "code",
   "execution_count": 620,
   "id": "6aad1f51",
   "metadata": {},
   "outputs": [
    {
     "data": {
      "text/plain": [
       "array([[8]])"
      ]
     },
     "execution_count": 620,
     "metadata": {},
     "output_type": "execute_result"
    }
   ],
   "source": [
    "n[2:3,1:2]"
   ]
  },
  {
   "cell_type": "code",
   "execution_count": 621,
   "id": "4ab6f75a",
   "metadata": {},
   "outputs": [
    {
     "data": {
      "text/plain": [
       "array([[7]])"
      ]
     },
     "execution_count": 621,
     "metadata": {},
     "output_type": "execute_result"
    }
   ],
   "source": [
    "n[1:2,2:3]"
   ]
  },
  {
   "cell_type": "code",
   "execution_count": 622,
   "id": "04428728",
   "metadata": {},
   "outputs": [
    {
     "data": {
      "text/plain": [
       "array([  1,   2,   3,   4,   5,   6,   7,   8,   9,  45, 354, 547,  36,\n",
       "       563,  99])"
      ]
     },
     "execution_count": 622,
     "metadata": {},
     "output_type": "execute_result"
    }
   ],
   "source": [
    "l"
   ]
  },
  {
   "cell_type": "code",
   "execution_count": 623,
   "id": "4be2bf9c",
   "metadata": {},
   "outputs": [
    {
     "data": {
      "text/plain": [
       "array([354, 547, 563,  99])"
      ]
     },
     "execution_count": 623,
     "metadata": {},
     "output_type": "execute_result"
    }
   ],
   "source": [
    "a=l>50\n",
    "l[a]"
   ]
  },
  {
   "cell_type": "code",
   "execution_count": 624,
   "id": "4835a792",
   "metadata": {},
   "outputs": [
    {
     "data": {
      "text/plain": [
       "array([ 1,  2,  3,  4,  5,  6,  7,  8,  9, 45, 36, 99])"
      ]
     },
     "execution_count": 624,
     "metadata": {},
     "output_type": "execute_result"
    }
   ],
   "source": [
    "a=~(l>100)\n",
    "l[a]"
   ]
  },
  {
   "cell_type": "code",
   "execution_count": 625,
   "id": "e8d823a1",
   "metadata": {},
   "outputs": [
    {
     "data": {
      "text/plain": [
       "array([[1, 2, 5, 6],\n",
       "       [3, 4, 7, 8],\n",
       "       [5, 8, 3, 7]])"
      ]
     },
     "execution_count": 625,
     "metadata": {},
     "output_type": "execute_result"
    }
   ],
   "source": [
    "n"
   ]
  },
  {
   "cell_type": "code",
   "execution_count": 626,
   "id": "b7848247",
   "metadata": {},
   "outputs": [
    {
     "data": {
      "text/plain": [
       "array([1, 2])"
      ]
     },
     "execution_count": 626,
     "metadata": {},
     "output_type": "execute_result"
    }
   ],
   "source": [
    "mask=~(n>=3)\n",
    "n[mask]"
   ]
  },
  {
   "cell_type": "code",
   "execution_count": 627,
   "id": "3c289d51",
   "metadata": {},
   "outputs": [
    {
     "data": {
      "text/plain": [
       "array([3, 3])"
      ]
     },
     "execution_count": 627,
     "metadata": {},
     "output_type": "execute_result"
    }
   ],
   "source": [
    "mask=n==3\n",
    "n[mask]"
   ]
  },
  {
   "cell_type": "code",
   "execution_count": 628,
   "id": "a81c7605",
   "metadata": {},
   "outputs": [
    {
     "data": {
      "text/plain": [
       "array([1, 2, 5, 6, 3, 4, 8, 5, 8, 3])"
      ]
     },
     "execution_count": 628,
     "metadata": {},
     "output_type": "execute_result"
    }
   ],
   "source": [
    "mask=~(n==7)\n",
    "n[mask]"
   ]
  },
  {
   "cell_type": "code",
   "execution_count": 629,
   "id": "39a4730e",
   "metadata": {},
   "outputs": [
    {
     "data": {
      "text/plain": [
       "array([1, 2, 5, 6, 3, 4, 8, 5, 8, 3])"
      ]
     },
     "execution_count": 629,
     "metadata": {},
     "output_type": "execute_result"
    }
   ],
   "source": [
    "mask=n!=7\n",
    "n[mask]"
   ]
  },
  {
   "cell_type": "code",
   "execution_count": 630,
   "id": "e5cc54a0",
   "metadata": {},
   "outputs": [
    {
     "data": {
      "text/plain": [
       "array([7, 7])"
      ]
     },
     "execution_count": 630,
     "metadata": {},
     "output_type": "execute_result"
    }
   ],
   "source": [
    "mask=~(n!=7)\n",
    "n[mask]"
   ]
  },
  {
   "cell_type": "code",
   "execution_count": 631,
   "id": "cfa1e9d3",
   "metadata": {},
   "outputs": [
    {
     "name": "stdout",
     "output_type": "stream",
     "text": [
      "[  1   2   3   4   5   6   7   8   9  45 354 547  36 563  99]\n"
     ]
    },
    {
     "data": {
      "text/plain": [
       "array([  1,   2, 999,   4,   5,   6,   7,   8,   9,  45, 354, 547,  36,\n",
       "       563,  99])"
      ]
     },
     "execution_count": 631,
     "metadata": {},
     "output_type": "execute_result"
    }
   ],
   "source": [
    "print(l)\n",
    "l[2]=999\n",
    "l"
   ]
  },
  {
   "cell_type": "code",
   "execution_count": 632,
   "id": "30272cfa",
   "metadata": {},
   "outputs": [
    {
     "data": {
      "text/plain": [
       "array([  1,   2, 999,   7,   7,   7,   7,   8,   9,  45, 354, 547,  36,\n",
       "       563,  99])"
      ]
     },
     "execution_count": 632,
     "metadata": {},
     "output_type": "execute_result"
    }
   ],
   "source": [
    "#assign by slicing in 1-D\n",
    "l[3:6]=7\n",
    "l"
   ]
  },
  {
   "cell_type": "code",
   "execution_count": 633,
   "id": "79431685",
   "metadata": {},
   "outputs": [
    {
     "name": "stdout",
     "output_type": "stream",
     "text": [
      "[[1 2 5 6]\n",
      " [3 4 7 8]\n",
      " [5 8 3 7]]\n"
     ]
    },
    {
     "data": {
      "text/plain": [
       "array([[ 1,  2, 17,  6],\n",
       "       [ 3,  4, 14,  8],\n",
       "       [ 5, 99,  3,  7]])"
      ]
     },
     "execution_count": 633,
     "metadata": {},
     "output_type": "execute_result"
    }
   ],
   "source": [
    "print(n)\n",
    "n[0,2]=17\n",
    "n[2,1]=99\n",
    "n[1,2]=14\n",
    "n"
   ]
  },
  {
   "cell_type": "code",
   "execution_count": 634,
   "id": "81d51d18",
   "metadata": {},
   "outputs": [
    {
     "name": "stdout",
     "output_type": "stream",
     "text": [
      "[[ 1  2 17  6]\n",
      " [ 3  4 14  8]\n",
      " [ 5 99  3  7]]\n"
     ]
    },
    {
     "data": {
      "text/plain": [
       "array([[15, 22, 17,  6],\n",
       "       [ 3, 44, 44,  8],\n",
       "       [ 5, 99, 55, 55]])"
      ]
     },
     "execution_count": 634,
     "metadata": {},
     "output_type": "execute_result"
    }
   ],
   "source": [
    "#Assignment of value by slicing in 2-D\n",
    "print(n)\n",
    "n[1:2,2:3]=21\n",
    "n[0:1,0:1]=15\n",
    "n[0:1,1:2]=22\n",
    "n[1:2,1:3]=44\n",
    "n[2:3,2:4]=55\n",
    "n"
   ]
  },
  {
   "cell_type": "code",
   "execution_count": 635,
   "id": "2b818dde",
   "metadata": {},
   "outputs": [
    {
     "name": "stdout",
     "output_type": "stream",
     "text": [
      "[  1   2 999   7   7   7   7   8   9  45 354 547  36 563  99]\n"
     ]
    },
    {
     "data": {
      "text/plain": [
       "array([  1,   2, 999,  55,  55,  55,  55,   8,   9,  45, 354, 547,  36,\n",
       "       563,  99])"
      ]
     },
     "execution_count": 635,
     "metadata": {},
     "output_type": "execute_result"
    }
   ],
   "source": [
    "print(l)\n",
    "mask=l==7\n",
    "l[mask]=55\n",
    "l"
   ]
  },
  {
   "cell_type": "code",
   "execution_count": 636,
   "id": "c46007e7",
   "metadata": {},
   "outputs": [
    {
     "data": {
      "text/plain": [
       "array([  1,   2,  88,  55,  55,  55,  55,   8,   9,  45, 354, 547,  36,\n",
       "       563,  99])"
      ]
     },
     "execution_count": 636,
     "metadata": {},
     "output_type": "execute_result"
    }
   ],
   "source": [
    "mask=l>=777\n",
    "l[mask]=88\n",
    "l"
   ]
  },
  {
   "cell_type": "code",
   "execution_count": 637,
   "id": "0e4a2ff1",
   "metadata": {},
   "outputs": [
    {
     "name": "stdout",
     "output_type": "stream",
     "text": [
      "[[15 22 17  6]\n",
      " [ 3 44 44  8]\n",
      " [ 5 99 55 55]]\n"
     ]
    },
    {
     "data": {
      "text/plain": [
       "array([[15, 22, 17,  6],\n",
       "       [ 3, 44, 44,  8],\n",
       "       [ 5, 77, 77, 77]])"
      ]
     },
     "execution_count": 637,
     "metadata": {},
     "output_type": "execute_result"
    }
   ],
   "source": [
    "print(n)\n",
    "mask=n>=55\n",
    "n[mask]=77\n",
    "n"
   ]
  },
  {
   "cell_type": "code",
   "execution_count": 638,
   "id": "d2ea1ae1",
   "metadata": {},
   "outputs": [
    {
     "data": {
      "text/plain": [
       "array([[ 15,  22,  17,   6],\n",
       "       [  3,  44,  44,   8],\n",
       "       [  5, 256, 256, 256]])"
      ]
     },
     "execution_count": 638,
     "metadata": {},
     "output_type": "execute_result"
    }
   ],
   "source": [
    "mask=n==77\n",
    "n[mask]=256\n",
    "n"
   ]
  },
  {
   "cell_type": "code",
   "execution_count": 639,
   "id": "cd633e87",
   "metadata": {},
   "outputs": [
    {
     "data": {
      "text/plain": [
       "array([[15, 22, 17,  6],\n",
       "       [ 3, 44, 44,  8],\n",
       "       [ 5, 67, 67, 67]])"
      ]
     },
     "execution_count": 639,
     "metadata": {},
     "output_type": "execute_result"
    }
   ],
   "source": [
    "mask=((n>200)&(n%2==0))\n",
    "n[mask]=67\n",
    "n"
   ]
  },
  {
   "cell_type": "code",
   "execution_count": 640,
   "id": "309db6fb",
   "metadata": {},
   "outputs": [
    {
     "data": {
      "text/plain": [
       "array([[45, 22, 45,  6],\n",
       "       [ 3, 44, 44,  8],\n",
       "       [ 5, 45, 45, 45]])"
      ]
     },
     "execution_count": 640,
     "metadata": {},
     "output_type": "execute_result"
    }
   ],
   "source": [
    "mask=((n>=10)&(n%2!=0))\n",
    "n[mask]=45\n",
    "n"
   ]
  },
  {
   "cell_type": "code",
   "execution_count": 665,
   "id": "ce833995",
   "metadata": {},
   "outputs": [
    {
     "data": {
      "text/plain": [
       "array([[23, 40, 13,  4, 11],\n",
       "       [35, 34,  8, 38, 40],\n",
       "       [24, 23,  5, 36, 18],\n",
       "       [28, 14, 22, 13, 18],\n",
       "       [15, 48, 20, 32, 39],\n",
       "       [41, 30, 41, 46, 26]])"
      ]
     },
     "execution_count": 665,
     "metadata": {},
     "output_type": "execute_result"
    }
   ],
   "source": [
    "b=np.random.randint(2.0,50.0,30).reshape(6,5)\n",
    "b"
   ]
  },
  {
   "cell_type": "code",
   "execution_count": 666,
   "id": "b398e63c",
   "metadata": {},
   "outputs": [
    {
     "data": {
      "text/plain": [
       "array([[15, 14,  5,  4, 11],\n",
       "       [23, 23,  8, 13, 18],\n",
       "       [24, 30, 13, 32, 18],\n",
       "       [28, 34, 20, 36, 26],\n",
       "       [35, 40, 22, 38, 39],\n",
       "       [41, 48, 41, 46, 40]])"
      ]
     },
     "execution_count": 666,
     "metadata": {},
     "output_type": "execute_result"
    }
   ],
   "source": [
    "a=np.sort(b,axis=0)   # 0 for y axis \n",
    "#a2=a1+a\n",
    "a"
   ]
  },
  {
   "cell_type": "code",
   "execution_count": 669,
   "id": "db2077b8",
   "metadata": {},
   "outputs": [
    {
     "data": {
      "text/plain": [
       "array([[ 4,  5, 11, 14, 15],\n",
       "       [ 8, 13, 18, 23, 23],\n",
       "       [13, 18, 24, 30, 32],\n",
       "       [20, 26, 28, 34, 36],\n",
       "       [22, 35, 38, 39, 40],\n",
       "       [40, 41, 41, 46, 48]])"
      ]
     },
     "execution_count": 669,
     "metadata": {},
     "output_type": "execute_result"
    }
   ],
   "source": [
    "a1=np.sort(a,axis=1)  # 1 for x axis\n",
    "a1"
   ]
  },
  {
   "cell_type": "code",
   "execution_count": null,
   "id": "6dfb12d1",
   "metadata": {},
   "outputs": [],
   "source": [
    "np.concatenate(a1,b)\n"
   ]
  },
  {
   "cell_type": "code",
   "execution_count": null,
   "id": "4a147753",
   "metadata": {},
   "outputs": [],
   "source": []
  }
 ],
 "metadata": {
  "kernelspec": {
   "display_name": "Python 3 (ipykernel)",
   "language": "python",
   "name": "python3"
  },
  "language_info": {
   "codemirror_mode": {
    "name": "ipython",
    "version": 3
   },
   "file_extension": ".py",
   "mimetype": "text/x-python",
   "name": "python",
   "nbconvert_exporter": "python",
   "pygments_lexer": "ipython3",
   "version": "3.10.9"
  }
 },
 "nbformat": 4,
 "nbformat_minor": 5
}
